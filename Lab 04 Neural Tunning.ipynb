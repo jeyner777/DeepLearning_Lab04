{
 "cells": [
  {
   "cell_type": "code",
   "execution_count": 2,
   "id": "089cc6cd-054e-4fc5-9103-59c03ca998d4",
   "metadata": {},
   "outputs": [],
   "source": [
    "### General libraries ###\n",
    "import pandas as pd\n",
    "from pandas.api.types import CategoricalDtype\n",
    "import matplotlib.pyplot as plt\n",
    "import plotly.graph_objects as go\n",
    "import seaborn as sns\n",
    "import numpy as np\n",
    "import warnings\n",
    "warnings.filterwarnings('ignore')\n",
    "import graphviz \n",
    "from graphviz import Source\n",
    "from IPython.display import SVG\n",
    "from scipy.stats import uniform\n",
    "\n",
    "##################################\n",
    "\n",
    "### Sklearn ML modules\n",
    "from sklearn.linear_model import LogisticRegression\n",
    "from sklearn.neural_network import MLPClassifier\n",
    "from sklearn.model_selection import GridSearchCV, RandomizedSearchCV\n",
    "from sklearn.model_selection import train_test_split, cross_val_score\n",
    "from sklearn.preprocessing import StandardScaler\n",
    "\n",
    "### TF ML modules\n",
    "import tensorflow as tf\n",
    "from tensorflow.keras.models import Sequential\n",
    "from tensorflow.keras.layers import Input, Dense, BatchNormalization, LSTM, Dropout\n",
    "from tensorflow.keras.regularizers import L1\n",
    "from scikeras.wrappers import KerasClassifier\n",
    "from tensorflow.keras.constraints import MaxNorm\n",
    "\n",
    "##################################\n",
    "\n",
    "### Metrics ###\n",
    "from sklearn import metrics\n",
    "from sklearn.metrics import f1_score,confusion_matrix, mean_squared_error, mean_absolute_error, classification_report, \\\n",
    "    roc_auc_score, roc_curve, precision_score, recall_score"
   ]
  },
  {
   "cell_type": "code",
   "execution_count": 3,
   "id": "ba5ada5e-78dc-40fb-b1c7-1943bc7a12f6",
   "metadata": {},
   "outputs": [],
   "source": [
    "# Load the data.\n",
    "data=pd.read_excel('default of credit card clients-1.xlsx', header=1)"
   ]
  },
  {
   "cell_type": "code",
   "execution_count": 4,
   "id": "5a43f10b-9feb-415b-896f-7abd4844740d",
   "metadata": {},
   "outputs": [],
   "source": [
    "# Drop \"ID\" column.\n",
    "data=data.drop(['ID'], axis=1)"
   ]
  },
  {
   "cell_type": "code",
   "execution_count": 5,
   "id": "f37dbb8c-4e86-47f4-bdcf-31d1d6ac94e0",
   "metadata": {},
   "outputs": [
    {
     "name": "stdout",
     "output_type": "stream",
     "text": [
      "<class 'pandas.core.frame.DataFrame'>\n",
      "RangeIndex: 30000 entries, 0 to 29999\n",
      "Data columns (total 24 columns):\n",
      " #   Column                      Non-Null Count  Dtype\n",
      "---  ------                      --------------  -----\n",
      " 0   LIMIT_BAL                   30000 non-null  int64\n",
      " 1   SEX                         30000 non-null  int64\n",
      " 2   EDUCATION                   30000 non-null  int64\n",
      " 3   MARRIAGE                    30000 non-null  int64\n",
      " 4   AGE                         30000 non-null  int64\n",
      " 5   PAY_0                       30000 non-null  int64\n",
      " 6   PAY_2                       30000 non-null  int64\n",
      " 7   PAY_3                       30000 non-null  int64\n",
      " 8   PAY_4                       30000 non-null  int64\n",
      " 9   PAY_5                       30000 non-null  int64\n",
      " 10  PAY_6                       30000 non-null  int64\n",
      " 11  BILL_AMT1                   30000 non-null  int64\n",
      " 12  BILL_AMT2                   30000 non-null  int64\n",
      " 13  BILL_AMT3                   30000 non-null  int64\n",
      " 14  BILL_AMT4                   30000 non-null  int64\n",
      " 15  BILL_AMT5                   30000 non-null  int64\n",
      " 16  BILL_AMT6                   30000 non-null  int64\n",
      " 17  PAY_AMT1                    30000 non-null  int64\n",
      " 18  PAY_AMT2                    30000 non-null  int64\n",
      " 19  PAY_AMT3                    30000 non-null  int64\n",
      " 20  PAY_AMT4                    30000 non-null  int64\n",
      " 21  PAY_AMT5                    30000 non-null  int64\n",
      " 22  PAY_AMT6                    30000 non-null  int64\n",
      " 23  default payment next month  30000 non-null  int64\n",
      "dtypes: int64(24)\n",
      "memory usage: 5.5 MB\n"
     ]
    }
   ],
   "source": [
    "data.info()"
   ]
  },
  {
   "cell_type": "code",
   "execution_count": 6,
   "id": "a9fccaa0-848e-4f18-8540-273a22f7f885",
   "metadata": {},
   "outputs": [
    {
     "name": "stdout",
     "output_type": "stream",
     "text": [
      "There are 35 duplicate rows in the data set.\n",
      "The duplicate rows were removed.\n"
     ]
    }
   ],
   "source": [
    "# Check for duplicate rows.\n",
    "print(f\"There are {data.duplicated().sum()} duplicate rows in the data set.\")\n",
    "\n",
    "# Remove duplicate rows.\n",
    "data=data.drop_duplicates()\n",
    "print(\"The duplicate rows were removed.\")"
   ]
  },
  {
   "cell_type": "code",
   "execution_count": 7,
   "id": "f2e5f100-05f5-4a7f-82a4-aa8c1ce8619b",
   "metadata": {},
   "outputs": [
    {
     "name": "stdout",
     "output_type": "stream",
     "text": [
      "There are 0 cells with null values in the data set.\n"
     ]
    }
   ],
   "source": [
    "# Check for null values.\n",
    "print(f\"There are {data.isna().any().sum()} cells with null values in the data set.\")"
   ]
  },
  {
   "cell_type": "code",
   "execution_count": 8,
   "id": "34e93318-ceb1-410a-b641-12a25d6e2175",
   "metadata": {},
   "outputs": [],
   "source": [
    "# Distinguish attribute columns and class column.\n",
    "X=data[data.columns[:-1]]\n",
    "data = data.rename(columns={'default payment next month': 'dpnm'})\n",
    "y=data['dpnm']"
   ]
  },
  {
   "cell_type": "code",
   "execution_count": 9,
   "id": "d046b89a-e779-40c0-8cf9-7afc8e0c2641",
   "metadata": {},
   "outputs": [],
   "source": [
    "# Split to train and test sets. \n",
    "X_train, X_test, y_train, y_test = train_test_split(X, y, test_size=0.2, random_state=777)"
   ]
  },
  {
   "cell_type": "code",
   "execution_count": 10,
   "id": "09b677d8-19c6-4ab9-ad38-61c3ea4a3e70",
   "metadata": {},
   "outputs": [],
   "source": [
    "# Standardization\n",
    "scaler = StandardScaler()\n",
    "scaler.fit(X_train)\n",
    "X_train = scaler.fit_transform(X_train)\n",
    "X_test = scaler.transform(X_test)"
   ]
  },
  {
   "cell_type": "code",
   "execution_count": 11,
   "id": "cf905d28-1988-4f14-93e2-f5dbf26ce266",
   "metadata": {},
   "outputs": [
    {
     "data": {
      "text/html": [
       "<style>#sk-container-id-1 {color: black;background-color: white;}#sk-container-id-1 pre{padding: 0;}#sk-container-id-1 div.sk-toggleable {background-color: white;}#sk-container-id-1 label.sk-toggleable__label {cursor: pointer;display: block;width: 100%;margin-bottom: 0;padding: 0.3em;box-sizing: border-box;text-align: center;}#sk-container-id-1 label.sk-toggleable__label-arrow:before {content: \"▸\";float: left;margin-right: 0.25em;color: #696969;}#sk-container-id-1 label.sk-toggleable__label-arrow:hover:before {color: black;}#sk-container-id-1 div.sk-estimator:hover label.sk-toggleable__label-arrow:before {color: black;}#sk-container-id-1 div.sk-toggleable__content {max-height: 0;max-width: 0;overflow: hidden;text-align: left;background-color: #f0f8ff;}#sk-container-id-1 div.sk-toggleable__content pre {margin: 0.2em;color: black;border-radius: 0.25em;background-color: #f0f8ff;}#sk-container-id-1 input.sk-toggleable__control:checked~div.sk-toggleable__content {max-height: 200px;max-width: 100%;overflow: auto;}#sk-container-id-1 input.sk-toggleable__control:checked~label.sk-toggleable__label-arrow:before {content: \"▾\";}#sk-container-id-1 div.sk-estimator input.sk-toggleable__control:checked~label.sk-toggleable__label {background-color: #d4ebff;}#sk-container-id-1 div.sk-label input.sk-toggleable__control:checked~label.sk-toggleable__label {background-color: #d4ebff;}#sk-container-id-1 input.sk-hidden--visually {border: 0;clip: rect(1px 1px 1px 1px);clip: rect(1px, 1px, 1px, 1px);height: 1px;margin: -1px;overflow: hidden;padding: 0;position: absolute;width: 1px;}#sk-container-id-1 div.sk-estimator {font-family: monospace;background-color: #f0f8ff;border: 1px dotted black;border-radius: 0.25em;box-sizing: border-box;margin-bottom: 0.5em;}#sk-container-id-1 div.sk-estimator:hover {background-color: #d4ebff;}#sk-container-id-1 div.sk-parallel-item::after {content: \"\";width: 100%;border-bottom: 1px solid gray;flex-grow: 1;}#sk-container-id-1 div.sk-label:hover label.sk-toggleable__label {background-color: #d4ebff;}#sk-container-id-1 div.sk-serial::before {content: \"\";position: absolute;border-left: 1px solid gray;box-sizing: border-box;top: 0;bottom: 0;left: 50%;z-index: 0;}#sk-container-id-1 div.sk-serial {display: flex;flex-direction: column;align-items: center;background-color: white;padding-right: 0.2em;padding-left: 0.2em;position: relative;}#sk-container-id-1 div.sk-item {position: relative;z-index: 1;}#sk-container-id-1 div.sk-parallel {display: flex;align-items: stretch;justify-content: center;background-color: white;position: relative;}#sk-container-id-1 div.sk-item::before, #sk-container-id-1 div.sk-parallel-item::before {content: \"\";position: absolute;border-left: 1px solid gray;box-sizing: border-box;top: 0;bottom: 0;left: 50%;z-index: -1;}#sk-container-id-1 div.sk-parallel-item {display: flex;flex-direction: column;z-index: 1;position: relative;background-color: white;}#sk-container-id-1 div.sk-parallel-item:first-child::after {align-self: flex-end;width: 50%;}#sk-container-id-1 div.sk-parallel-item:last-child::after {align-self: flex-start;width: 50%;}#sk-container-id-1 div.sk-parallel-item:only-child::after {width: 0;}#sk-container-id-1 div.sk-dashed-wrapped {border: 1px dashed gray;margin: 0 0.4em 0.5em 0.4em;box-sizing: border-box;padding-bottom: 0.4em;background-color: white;}#sk-container-id-1 div.sk-label label {font-family: monospace;font-weight: bold;display: inline-block;line-height: 1.2em;}#sk-container-id-1 div.sk-label-container {text-align: center;}#sk-container-id-1 div.sk-container {/* jupyter's `normalize.less` sets `[hidden] { display: none; }` but bootstrap.min.css set `[hidden] { display: none !important; }` so we also need the `!important` here to be able to override the default hidden behavior on the sphinx rendered scikit-learn.org. See: https://github.com/scikit-learn/scikit-learn/issues/21755 */display: inline-block !important;position: relative;}#sk-container-id-1 div.sk-text-repr-fallback {display: none;}</style><div id=\"sk-container-id-1\" class=\"sk-top-container\"><div class=\"sk-text-repr-fallback\"><pre>MLPClassifier(hidden_layer_sizes=(12, 5), max_iter=1000, random_state=777)</pre><b>In a Jupyter environment, please rerun this cell to show the HTML representation or trust the notebook. <br />On GitHub, the HTML representation is unable to render, please try loading this page with nbviewer.org.</b></div><div class=\"sk-container\" hidden><div class=\"sk-item\"><div class=\"sk-estimator sk-toggleable\"><input class=\"sk-toggleable__control sk-hidden--visually\" id=\"sk-estimator-id-1\" type=\"checkbox\" checked><label for=\"sk-estimator-id-1\" class=\"sk-toggleable__label sk-toggleable__label-arrow\">MLPClassifier</label><div class=\"sk-toggleable__content\"><pre>MLPClassifier(hidden_layer_sizes=(12, 5), max_iter=1000, random_state=777)</pre></div></div></div></div></div>"
      ],
      "text/plain": [
       "MLPClassifier(hidden_layer_sizes=(12, 5), max_iter=1000, random_state=777)"
      ]
     },
     "execution_count": 11,
     "metadata": {},
     "output_type": "execute_result"
    }
   ],
   "source": [
    "# Initialize a Multi-layer Perceptron classifier.\n",
    "mlp = MLPClassifier(hidden_layer_sizes=(12,5),max_iter=1000, random_state=777,shuffle=True, verbose=False)\n",
    "\n",
    "# Train the classifier.\n",
    "mlp.fit(X_train, y_train)"
   ]
  },
  {
   "cell_type": "code",
   "execution_count": 12,
   "id": "f6f6a289-4401-421d-b584-9affc834583c",
   "metadata": {},
   "outputs": [],
   "source": [
    "# Make predictions.\n",
    "mlp_pred = mlp.predict(X_test)\n",
    "\n",
    "# CV score\n",
    "mlp_cv=cross_val_score(mlp, X_train, y_train, cv=10).mean()"
   ]
  },
  {
   "cell_type": "code",
   "execution_count": 13,
   "id": "eb3381a3-c4e4-45b4-ab4e-dd255868aba1",
   "metadata": {},
   "outputs": [
    {
     "name": "stdout",
     "output_type": "stream",
     "text": [
      "Accuracy: 0.8260\n",
      "Cross-validation accuracy: 0.8174\n",
      "Precision: 0.6399\n",
      "Recall: 0.4028\n",
      "F1 score: 0.4944\n"
     ]
    }
   ],
   "source": [
    "# Accuracy: 1 is perfect prediction.\n",
    "print('Accuracy: %.4f' % mlp.score(X_test, y_test))\n",
    "# Cross-Validation accuracy\n",
    "print('Cross-validation accuracy: %0.4f' % mlp_cv)\n",
    "# Precision\n",
    "print('Precision: %.4f' % precision_score(y_test, mlp_pred))\n",
    "# Recall\n",
    "print('Recall: %.4f' % recall_score(y_test, mlp_pred))\n",
    "# f1 score: best value at 1 (perfect precision and recall) and worst at 0.\n",
    "print('F1 score: %.4f' % f1_score(y_test, mlp_pred))"
   ]
  },
  {
   "cell_type": "code",
   "execution_count": 14,
   "id": "8fd288a1-86bc-4329-8aab-80a44e09f2e5",
   "metadata": {},
   "outputs": [
    {
     "data": {
      "image/png": "[encoded data removed]",
      "text/plain": [
       "<Figure size 800x800 with 1 Axes>"
      ]
     },
     "metadata": {},
     "output_type": "display_data"
    }
   ],
   "source": [
    "# Plot confusion matrix for Multi-layer Perceptron.\n",
    "matrix = confusion_matrix(y_test,mlp_pred)\n",
    "sns.set(font_scale=1.3)\n",
    "plt.subplots(figsize=(8, 8))\n",
    "sns.heatmap(matrix,annot=True, cbar=False, cmap='twilight',linewidth=0.5,fmt=\"d\")\n",
    "plt.ylabel('True Label')\n",
    "plt.xlabel('Predicted Label')\n",
    "plt.title('Confusion Matrix for MLP');"
   ]
  },
  {
   "cell_type": "code",
   "execution_count": 15,
   "id": "61059e82-ff47-4759-8860-4e11ef99972b",
   "metadata": {},
   "outputs": [],
   "source": [
    "# Hyperparameters to be checked.\n",
    "#parameters = {'activation':['logistic','relu'],\n",
    "#              'solver': ['lbfgs','adam','sgd'],\n",
    "#              'alpha':10.0 ** -np.arange(1,3),\n",
    "#              'hidden_layer_sizes':[(23),(12,5),(12,5,2),(3,1),(5)],\n",
    "#              'batch_size': batch_size, 'epochs': epochs}"
   ]
  },
  {
   "cell_type": "markdown",
   "id": "a31b7263-8e97-4334-96f6-f6d0ce03679f",
   "metadata": {},
   "source": [
    "## Original Modelo"
   ]
  },
  {
   "cell_type": "code",
   "execution_count": 19,
   "id": "34b28851-3e27-4dac-9ff0-512ef0bf025b",
   "metadata": {},
   "outputs": [],
   "source": [
    "def create_model():\n",
    "    # create model\n",
    "    model = Sequential()\n",
    "    model.add(Dense(20, input_shape = (23,), activation='relu'))\n",
    "    model.add(BatchNormalization())\n",
    "    model.add(Dropout(0.2)),\n",
    "    model.add(Dense(20, activation='relu'))\n",
    "    model.add(BatchNormalization())\n",
    "    model.add(Dense(1, activation='sigmoid'))\n",
    "    # Compile model\n",
    "    model.compile(loss='binary_crossentropy', optimizer='adam', metrics=['accuracy'])\n",
    "    return model\n",
    "model = KerasClassifier(model=create_model, verbose=0)"
   ]
  },
  {
   "cell_type": "markdown",
   "id": "865a461b-65b0-4ce6-b509-6d2d282ef935",
   "metadata": {},
   "source": [
    "### Epoch and Batch Optimization"
   ]
  },
  {
   "cell_type": "code",
   "execution_count": 27,
   "id": "32af5c75-b1fe-4084-9a26-3ca6f1cf0ef0",
   "metadata": {},
   "outputs": [
    {
     "data": {
      "text/plain": [
       "{'batch_size': [40, 50, 60, 80, 100, 150, 200], 'epochs': [10, 25, 30, 50]}"
      ]
     },
     "execution_count": 27,
     "metadata": {},
     "output_type": "execute_result"
    }
   ],
   "source": [
    "seed = 777\n",
    "tf.random.set_seed(seed)\n",
    "# define the grid search parameters\n",
    "batch_size = [40, 50, 60, 80, 100, 150, 200]\n",
    "epochs = [10, 25, 30, 50]\n",
    "param_grid = dict(batch_size=batch_size, epochs=epochs)\n",
    "param_grid"
   ]
  },
  {
   "cell_type": "markdown",
   "id": "14472b92-538c-4928-89c4-be779f7e34aa",
   "metadata": {},
   "source": [
    "#### Grid Search"
   ]
  },
  {
   "cell_type": "code",
   "execution_count": 28,
   "id": "0ea80ade-d393-4712-baaa-b37e24f0bba7",
   "metadata": {
    "scrolled": true
   },
   "outputs": [],
   "source": [
    "gridSearch_grid = GridSearchCV(estimator=model, param_grid=param_grid, n_jobs=1, cv=3)\n",
    "gridSearch_result = gridSearch_grid.fit(X, y)"
   ]
  },
  {
   "cell_type": "code",
   "execution_count": 29,
   "id": "f9c4ad61-28f0-424d-b181-26fd872011d4",
   "metadata": {},
   "outputs": [
    {
     "name": "stdout",
     "output_type": "stream",
     "text": [
      "Best: 0.778642 using {'batch_size': 50, 'epochs': 10}\n"
     ]
    }
   ],
   "source": [
    "# gridSearch results\n",
    "print(\"Best: %f using %s\" % (gridSearch_result.best_score_, gridSearch_result.best_params_))"
   ]
  },
  {
   "cell_type": "code",
   "execution_count": null,
   "id": "262cdbd1-62d3-457f-8892-ba720a79e39a",
   "metadata": {},
   "outputs": [],
   "source": [
    "#Heatmap Variables\n",
    "gridSearch_batch_size_values = gridSearch_result.param_grid['batch_size']\n",
    "gridSearch_epochs_values = gridSearch_result.param_grid['epochs']\n",
    "gridSearch_mean_test_scores = gridSearch_result.cv_results_['mean_test_score']\n",
    "\n",
    "num_gridSearch_batch_size_values = len(gridSearch_batch_size_values)\n",
    "num_gridSearch_epochs_values = len(gridSearch_epochs_values)\n",
    "gridSearch_mean_test_scores = np.array(gridSearch_mean_test_scores).reshape(num_gridSearch_batch_size_values, num_gridSearch_epochs_values)\n",
    "\n",
    "#figure size and format\n",
    "plt.figure(figsize=(8,2))  \n",
    "sns.heatmap(gridSearch_mean_test_scores, annot=True, fmt='.6f', \n",
    "            xticklabels=gridSearch_epochs_values, \n",
    "            yticklabels=gridSearch_batch_size_values, \n",
    "            cmap='coolwarm')\n",
    "plt.xlabel('Epochs')\n",
    "plt.ylabel('Batch Size') \n",
    "plt.title('Batch size vs Epochs Heatmap')\n",
    "\n",
    "# Show the plot\n",
    "plt.show()"
   ]
  },
  {
   "cell_type": "markdown",
   "id": "a197d1b4-8b4b-4ded-9f8a-93bb77fdc927",
   "metadata": {},
   "source": [
    "#### Random Search"
   ]
  },
  {
   "cell_type": "code",
   "execution_count": 17,
   "id": "f3b3d580-2216-4795-ac8b-3fe3d9cb0c7f",
   "metadata": {},
   "outputs": [],
   "source": [
    "randomSearch_batch_size =np.arange(20, 501)\n",
    "randomSearch_epochs = np.arange(80,201)\n",
    "randomSearch_param_grid = dict(batch_size=randomSearch_batch_size, epochs=randomSearch_epochs)"
   ]
  },
  {
   "cell_type": "code",
   "execution_count": 20,
   "id": "df8e34fe-4d0c-4d9e-9a5c-f43f95215cbd",
   "metadata": {},
   "outputs": [],
   "source": [
    "RandomizedSearch_grid = RandomizedSearchCV(estimator=model, param_distributions=randomSearch_param_grid, n_iter =10, n_jobs=-1, cv=5)\n",
    "RandomizedSearch_result = RandomizedSearch_grid.fit(X, y)"
   ]
  },
  {
   "cell_type": "code",
   "execution_count": 21,
   "id": "e42f122c-9202-49fb-9a81-6d299b903c07",
   "metadata": {},
   "outputs": [
    {
     "name": "stdout",
     "output_type": "stream",
     "text": [
      "Best: 0.780110 in Random Search using {'epochs': 127, 'batch_size': 378}\n"
     ]
    }
   ],
   "source": [
    "# gridSearch results\n",
    "print(\"Best: %f in Random Search using %s\" % (RandomizedSearch_result.best_score_, RandomizedSearch_result.best_params_))"
   ]
  },
  {
   "cell_type": "code",
   "execution_count": 22,
   "id": "889e6bdb-26cf-426c-a9d4-9d62d025389c",
   "metadata": {},
   "outputs": [],
   "source": [
    "#Heatmap Variables\n",
    "RandomizedSearch_batch_size_values = RandomizedSearch_result.cv_results_['param_batch_size'].data.astype(int)\n",
    "RandomizedSearch_epochs_values = RandomizedSearch_result.cv_results_['param_epochs'].data.astype(int)\n",
    "RandomizedSearch_mean_test_scores = RandomizedSearch_result.cv_results_['mean_test_score']"
   ]
  },
  {
   "cell_type": "code",
   "execution_count": 23,
   "id": "ba0cce89-e486-462b-b2bc-7fc638c6c470",
   "metadata": {},
   "outputs": [
    {
     "data": {
      "text/plain": [
       "(array([0.77807442, 0.77987652, 0.77827465, 0.77887535, 0.7795428 ,\n",
       "        0.77980978, 0.78011013, 0.77900884, 0.77997664, 0.77764058]),\n",
       " array([ 25, 448,  53, 482, 329, 391, 378,  74, 481,  27]),\n",
       " array([127, 135, 114, 111, 137, 167, 127, 173, 107,  82]))"
      ]
     },
     "execution_count": 23,
     "metadata": {},
     "output_type": "execute_result"
    }
   ],
   "source": [
    "RandomizedSearch_mean_test_scores, RandomizedSearch_batch_size_values, RandomizedSearch_epochs_values"
   ]
  },
  {
   "cell_type": "code",
   "execution_count": 24,
   "id": "53f8ed38-3869-4793-a9ff-ec1ced1a9e05",
   "metadata": {},
   "outputs": [
    {
     "data": {
      "image/png": "[encoded data removed]",
      "text/plain": [
       "<Figure size 1300x300 with 2 Axes>"
      ]
     },
     "metadata": {},
     "output_type": "display_data"
    }
   ],
   "source": [
    "#figure size and format\n",
    "plt.figure(figsize=(13,3))  \n",
    "plt.xlabel('Batch Size', fontsize=8)\n",
    "plt.ylabel('Epochs', fontsize=8)\n",
    "plt.scatter(RandomizedSearch_batch_size_values,RandomizedSearch_epochs_values, c=RandomizedSearch_mean_test_scores, cmap='coolwarm')\n",
    "plt.title('Batch size vs Epochs Heatmap')\n",
    "cbar = plt.colorbar()\n",
    "for i, val in enumerate(RandomizedSearch_mean_test_scores):\n",
    "    plt.text(RandomizedSearch_batch_size_values[i], RandomizedSearch_epochs_values[i], f'{val:.6f}', ha='right', va='baseline', fontsize=8)\n",
    "# Show the plot\n",
    "plt.show()"
   ]
  },
  {
   "cell_type": "markdown",
   "id": "43bd1050-a025-452a-a809-cba21f836b8c",
   "metadata": {},
   "source": [
    "### Optimizer Search"
   ]
  },
  {
   "cell_type": "code",
   "execution_count": null,
   "id": "9ec52988-db19-4daa-830c-b925165a8ecf",
   "metadata": {},
   "outputs": [],
   "source": [
    "optimizer_list = ['Adadelta', 'Adafactor', 'Adagrad', 'Nadam', 'RMSprop', 'SGD', 'Adam', 'AdamW']\n",
    "optimizer_grid = GridSearchCV(estimator=model, param_grid=optimizer_list, n_jobs=-1, cv=3, verbose=1)\n",
    "optimizer_result = optimizer_grid.fit(X,y)"
   ]
  },
  {
   "cell_type": "markdown",
   "id": "851d5f5c-e24a-44d0-8de2-48da501312cd",
   "metadata": {},
   "source": [
    "### Learning, L1, Neuron 2 layer, activation function "
   ]
  },
  {
   "cell_type": "code",
   "execution_count": null,
   "id": "3fc03e36-d7d2-42fc-bdc0-363823b893df",
   "metadata": {},
   "outputs": [],
   "source": [
    "def create_model(neurons, l1, activation):\n",
    "    # create model\n",
    "    model = Sequential()\n",
    "    model.add(Dense(20, input_shape = (23,), activation=l1))\n",
    "    model.add(BatchNormalization())\n",
    "    model.add(Dropout(0.2)),\n",
    "    model.add(Dense(neurons, activation=activation))\n",
    "    model.add(BatchNormalization())\n",
    "    model.add(Dense(1, activation='sigmoid'))\n",
    "    # Compile model\n",
    "    model.compile(loss='binary_crossentropy', optimizer='adam', metrics=['accuracy'])\n",
    "    return model\n",
    "model = KerasClassifier(model=create_model, verbose=0)"
   ]
  }
 ],
 "metadata": {
  "kernelspec": {
   "display_name": "Python 3 (ipykernel)",
   "language": "python",
   "name": "python3"
  },
  "language_info": {
   "codemirror_mode": {
    "name": "ipython",
    "version": 3
   },
   "file_extension": ".py",
   "mimetype": "text/x-python",
   "name": "python",
   "nbconvert_exporter": "python",
   "pygments_lexer": "ipython3",
   "version": "3.11.1"
  }
 },
 "nbformat": 4,
 "nbformat_minor": 5
}
